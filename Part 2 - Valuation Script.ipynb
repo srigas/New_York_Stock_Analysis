{
 "cells": [
  {
   "cell_type": "markdown",
   "id": "33842382",
   "metadata": {},
   "source": [
    "# Time Travel Problem - Valuation Graph"
   ]
  },
  {
   "cell_type": "code",
   "execution_count": 1,
   "id": "e1083cf4",
   "metadata": {},
   "outputs": [],
   "source": [
    "import os\n",
    "import matplotlib.pyplot as plt\n",
    "import pandas as pd\n",
    "import numpy as np\n",
    "import math\n",
    "import seaborn as sns\n",
    "\n",
    "%matplotlib inline"
   ]
  },
  {
   "cell_type": "code",
   "execution_count": 2,
   "id": "892878f4",
   "metadata": {},
   "outputs": [],
   "source": [
    "mode = 'large'\n",
    "\n",
    "transac_file = f\"{mode}.txt\"\n",
    "\n",
    "with open(transac_file, \"r\") as file:\n",
    "    transacs = file.read().splitlines()\n",
    "\n",
    "comps = set() # In order to load only the data that appears in the transactions\n",
    "len_trans = transacs.pop(0)\n",
    "transactions = []\n",
    "for x in transacs:\n",
    "    transac = x.split(\" \")\n",
    "    transactions.append(transac)\n",
    "    comps.add(transac[2])"
   ]
  },
  {
   "cell_type": "code",
   "execution_count": 3,
   "id": "ec2906f8",
   "metadata": {},
   "outputs": [
    {
     "name": "stdout",
     "output_type": "stream",
     "text": [
      "Added a total of 8 stocks.\n"
     ]
    }
   ],
   "source": [
    "direc = \"Stocks\\\\\"\n",
    "load_stocks = []\n",
    "counter = 0\n",
    "\n",
    "for filename in os.listdir(direc):\n",
    "    statinfo = os.stat(direc+filename)\n",
    "    \n",
    "    if filename.split('.us')[0].upper() in comps:\n",
    "        data = pd.read_csv(direc + filename, header=0, parse_dates=[\"Date\"])\n",
    "        data.insert(1, \"Company Index\", counter)\n",
    "        data['Stock name'] = filename.split('.us')[0].upper()\n",
    "        \n",
    "        load_stocks.append(data)\n",
    "        counter += 1\n",
    "            \n",
    "print(\"Added a total of {} stocks.\".format(counter))\n",
    "\n",
    "df = pd.concat(load_stocks)\n",
    "\n",
    "# This column is useless for our analysis, explain more in the text\n",
    "df.drop(['OpenInt'], axis=1, inplace=True)\n",
    "\n",
    "df.reset_index(inplace=True)\n",
    "df.rename(columns={'index': 'Local Index'}, inplace=True)"
   ]
  },
  {
   "cell_type": "code",
   "execution_count": 4,
   "id": "815f5c23",
   "metadata": {},
   "outputs": [],
   "source": [
    "stocks = {} # avail stocks\n",
    "balance = {} # avail money per day\n",
    "portfolio = {} # virtual money from stocks, depending on stock value\n",
    "avail_money = 1.0\n",
    "\n",
    "start_date = '1960-01-01'\n",
    "end_date = str(df['Date'].max().date())\n",
    "dates = pd.date_range(start_date, end_date) # From 1/1/1960 till the last day present in the dataframe"
   ]
  },
  {
   "cell_type": "code",
   "execution_count": 5,
   "id": "9cc96970",
   "metadata": {},
   "outputs": [
    {
     "name": "stdout",
     "output_type": "stream",
     "text": [
      "The exact total profit is 707739742131.71$.\n"
     ]
    }
   ],
   "source": [
    "finished_transacs = False\n",
    "active_transac = transactions.pop(0) # Get the first transaction\n",
    "last_price_of_stock = {}\n",
    "sum_trans = 0\n",
    "\n",
    "for x in dates:\n",
    "    \n",
    "    eff_df = df.loc[df['Date']==x] # The effective dataframe that deals with this specific date\n",
    "    earned = 0.0\n",
    "    spent = 0.0\n",
    "\n",
    "    while pd.to_datetime(active_transac[0]) == x and finished_transacs == False:\n",
    "        \n",
    "        stock = active_transac[2]\n",
    "        shares = int(active_transac[3])\n",
    "        ID = active_transac[1]\n",
    "        \n",
    "        # Do transaction\n",
    "        if ID == 'buy-open':\n",
    "            if stock in stocks:\n",
    "                stocks[stock] += shares\n",
    "            else:\n",
    "                stocks[stock] = shares\n",
    "            price = eff_df.loc[eff_df['Stock name'] == stock].iloc[0,3] # Price Open\n",
    "            #spent += 1.01*shares*price # <- in order to incorporate transaction fees\n",
    "            spent += shares*price\n",
    "        elif ID == 'buy-low':\n",
    "            if stock in stocks:\n",
    "                stocks[stock] += shares\n",
    "            else:\n",
    "                stocks[stock] = shares\n",
    "            price = eff_df.loc[eff_df['Stock name'] == stock].iloc[0,5] # Price Low\n",
    "            #spent += 1.01*shares*price\n",
    "            spent += shares*price\n",
    "        elif ID == 'sell-high':\n",
    "            stocks[stock] -= shares\n",
    "            price = eff_df.loc[eff_df['Stock name'] == stock].iloc[0,4] # Price High\n",
    "            #earned += 0.99*shares*price\n",
    "            earned += shares*price\n",
    "        elif ID == 'sell-close':\n",
    "            stocks[stock] -= shares\n",
    "            price = eff_df.loc[eff_df['Stock name'] == stock].iloc[0,6] # Price Close\n",
    "            #earned += 0.99*shares*price\n",
    "            earned += shares*price\n",
    "        # The following were omitted in version 1\n",
    "        # But have to be included because of the extra restriction\n",
    "        # of being able to buy stocks depending on the number of stocks you own\n",
    "        elif ID == 'sell-open':\n",
    "            stocks[stock] -= shares\n",
    "            price = eff_df.loc[eff_df['Stock name'] == stock].iloc[0,3]\n",
    "            #earned += 0.99*shares*price\n",
    "            earned += shares*price\n",
    "        elif ID == 'sell-low':\n",
    "            stocks[stock] -= shares\n",
    "            price = eff_df.loc[eff_df['Stock name'] == stock].iloc[0,5]\n",
    "            #earned += 0.99*shares*price\n",
    "            earned += shares*price\n",
    "        elif ID == 'buy-high':\n",
    "            if stock in stocks:\n",
    "                stocks[stock] += shares\n",
    "            else:\n",
    "                stocks[stock] = shares\n",
    "            price = eff_df.loc[eff_df['Stock name'] == stock].iloc[0,4]\n",
    "            #spent += 1.01*shares*price\n",
    "            spent += shares*price\n",
    "        elif ID == 'buy-close':\n",
    "            if stock in stocks:\n",
    "                stocks[stock] += shares\n",
    "            else:\n",
    "                stocks[stock] = shares\n",
    "            price = eff_df.loc[eff_df['Stock name'] == stock].iloc[0,6]\n",
    "            #spent += 1.01*shares*price\n",
    "            spent += shares*price\n",
    "        \n",
    "        if transactions:\n",
    "            active_transac = transactions.pop(0)\n",
    "        else:\n",
    "            finished_transacs = True\n",
    "    \n",
    "    avail_money += earned\n",
    "    avail_money -= spent\n",
    "    balance[x] = avail_money\n",
    "    \n",
    "    # The portfolio is udpated according to the close value\n",
    "    virtual_money = 0.0\n",
    "    for y in stocks:\n",
    "        price_stock_today = eff_df.loc[eff_df['Stock name'] == y]\n",
    "        if not price_stock_today.empty:\n",
    "            tprice = price_stock_today.iloc[0,6]\n",
    "            last_price_of_stock[y] = tprice\n",
    "            virtual_money += tprice*stocks[y]\n",
    "        else:\n",
    "            virtual_money += last_price_of_stock[y]*stocks[y]\n",
    "\n",
    "    portfolio[x] = virtual_money\n",
    "    \n",
    "print(f'The exact total profit is {balance[dates[-1]]:.2f}$.')"
   ]
  },
  {
   "cell_type": "code",
   "execution_count": 6,
   "id": "cb7d6223",
   "metadata": {},
   "outputs": [],
   "source": [
    "if not os.path.isdir(\"valuation\"):\n",
    "    os.makedirs(\"valuation\")\n",
    "\n",
    "bfile = open(f\"valuation\\\\balance_{mode}.txt\", \"w\")\n",
    "for element in balance:\n",
    "    bfile.write(f'{element}, {balance[element]}\\n')\n",
    "bfile.close()\n",
    "\n",
    "pfile = open(f\"valuation\\\\portfolio_{mode}.txt\", \"w\")\n",
    "for element in portfolio:\n",
    "    pfile.write(f'{element}, {portfolio[element]}\\n')\n",
    "pfile.close()"
   ]
  },
  {
   "cell_type": "code",
   "execution_count": 7,
   "id": "932976f3",
   "metadata": {
    "scrolled": true
   },
   "outputs": [
    {
     "data": {
      "image/png": "[encoded data removed]",
      "text/plain": [
       "<Figure size 1051.2x684 with 1 Axes>"
      ]
     },
     "metadata": {},
     "output_type": "display_data"
    }
   ],
   "source": [
    "# Dataframe for plotting\n",
    "balance_vals = pd.DataFrame.from_dict(balance, orient='index')\n",
    "portfolio_vals = pd.DataFrame.from_dict(portfolio, orient='index')\n",
    "balance_vals.rename(columns={0: 'Balance'}, inplace=True)\n",
    "portfolio_vals.rename(columns={0: 'Portfolio'}, inplace=True)\n",
    "graph_vals = balance_vals.join(portfolio_vals, how='outer')\n",
    "graph_vals.insert(0, \"Dates\", graph_vals.index)\n",
    "\n",
    "# Plotting\n",
    "mycol = (72/255, 99/255, 147/255)\n",
    "mycomplcol = (129/255, 143/255, 163/255)\n",
    "sns.set(style = \"darkgrid\")\n",
    "colors = [mycol, mycomplcol]\n",
    "\n",
    "xvals = graph_vals['Dates']\n",
    "balvals = graph_vals['Balance']\n",
    "portvals = graph_vals['Portfolio']\n",
    "\n",
    "fig, ax = plt.subplots(1, 1)\n",
    "fig.set_size_inches(14.6, 9.5)\n",
    "ax.stackplot(xvals, balvals, portvals, labels=['Balance','Portfolio'], colors=colors, linewidth=0)\n",
    "ax.set_title('Valuation', fontsize=20)\n",
    "ax.set_yscale(\"log\")\n",
    "ax.tick_params(axis='both', labelsize=16)\n",
    "ax.set_xlabel('Time', fontsize=18)\n",
    "ax.set_ylabel('Profits (US$)', fontsize=18)\n",
    "ax.set_yticks([0.1, 10, 1000, 100000, 10000000, 1000000000, 100000000000])\n",
    "plt.legend(loc='upper left', prop={'size': 18})\n",
    "plt.savefig(f\"valuation\\\\Valuation-{mode}.pdf\", bbox_inches='tight')\n",
    "plt.show()"
   ]
  },
  {
   "cell_type": "code",
   "execution_count": 8,
   "id": "c6049219",
   "metadata": {},
   "outputs": [],
   "source": [
    "# To make the graph without having to re-run the whole notebook, but simply\n",
    "# load the balance and portfolio data from the saved text files:\n",
    "\n",
    "def plot_from_files():\n",
    "    \n",
    "    mycol = (0.13333, 0.35294, 0.38824)\n",
    "    mycomplcol = (0.6, 0.4549, 0.2078)\n",
    "    sns.set(style = \"darkgrid\")\n",
    "    colors = [mycol, mycomplcol]\n",
    "    \n",
    "    headers_p = ['Dates2', 'Portfolio']\n",
    "    headers_b = ['Dates', 'Balance']\n",
    "\n",
    "    imp_port = pd.read_csv(f'valuation\\\\portfolio_{mode}.txt', names=headers_p)\n",
    "\n",
    "    imp_bal = pd.read_csv(f'valuation\\\\balance_{mode}.txt', names=headers_b, parse_dates=['Dates'])\n",
    "\n",
    "    mixed = pd.concat([imp_port, imp_bal], axis=1)\n",
    "    \n",
    "    # Plotting\n",
    "    imp_xvals = mixed['Dates']\n",
    "    imp_balvals = mixed['Balance']\n",
    "    imp_portvals = mixed['Portfolio']\n",
    "\n",
    "    fig, ax = plt.subplots(1, 1)\n",
    "    fig.set_size_inches(14.6, 9.5)\n",
    "    ax.stackplot(imp_xvals, imp_balvals, imp_portvals, labels=['Balance','Portfolio'], colors=colors, linewidth=0)\n",
    "    ax.set_title('Valuation', fontsize=20)\n",
    "    ax.set_yscale(\"log\")\n",
    "    ax.tick_params(axis='both', labelsize=16)\n",
    "    ax.set_xlabel('Time', fontsize=18)\n",
    "    ax.set_ylabel('Profits ($)', fontsize=18)\n",
    "    ax.set_yticks([0.1, 10, 1000, 100000, 10000000, 1000000000, 100000000000])\n",
    "    plt.legend(loc='upper left', prop={'size': 18})\n",
    "    plt.savefig(f\"valuation\\\\Valuation-{mode}.pdf\", bbox_inches='tight')\n",
    "    plt.show()\n",
    "    \n",
    "    return"
   ]
  },
  {
   "cell_type": "code",
   "execution_count": 9,
   "id": "859b3529",
   "metadata": {},
   "outputs": [],
   "source": [
    "#plot_from_files()"
   ]
  },
  {
   "cell_type": "markdown",
   "id": "0d79d2b5",
   "metadata": {},
   "source": [
    "  "
   ]
  }
 ],
 "metadata": {
  "kernelspec": {
   "display_name": "Python 3",
   "language": "python",
   "name": "python3"
  },
  "language_info": {
   "codemirror_mode": {
    "name": "ipython",
    "version": 3
   },
   "file_extension": ".py",
   "mimetype": "text/x-python",
   "name": "python",
   "nbconvert_exporter": "python",
   "pygments_lexer": "ipython3",
   "version": "3.8.8"
  }
 },
 "nbformat": 4,
 "nbformat_minor": 5
}
